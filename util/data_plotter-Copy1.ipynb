{
 "cells": [
  {
   "cell_type": "code",
   "execution_count": 1,
   "id": "26c20c25",
   "metadata": {
    "scrolled": true
   },
   "outputs": [
    {
     "name": "stdout",
     "output_type": "stream",
     "text": [
      "|       131072 |            1 |      3572.92 |            1 | |       131072 |            2 |      6704.34 |            1 | |       131072 |            3 |      9149.49 |            1 | |       131072 |            4 |     11644.67 |            1 | |       131072 |            5 |     13186.31 |            1 | |       131072 |            6 |     13944.07 |            1 | |       131072 |            7 |     17088.09 |            1 | |       131072 |            8 |     18898.55 |            1 | |       131072 |            9 |     20447.11 |            1 | |       131072 |           10 |     21382.18 |            1 | |       131072 |           11 |     20837.65 |            1 | |       131072 |           12 |     22385.48 |            1 | |       131072 |           13 |     22695.93 |            1 | |       131072 |           14 |        26.17 |            1 | |       131072 |           15 |     23386.09 |            1 | |       131072 |           16 |        13.12 |            1 | |       131072 |           17 |     21681.94 |            1 | |       131072 |           18 |        26.20 |            1 | |       131072 |           19 |     21990.23 |            1 | |       131072 |           20 |        13.12 |            1 | |       131072 |           21 |     22619.33 |            1 | |       131072 |           22 |        26.20 |            1 | |       131072 |           23 |     23939.02 |            1 | |       131072 |           24 |        13.12 |            1 | |       131072 |           25 |     22482.03 |            1 | |       131072 |           26 |        26.17 |            1 | |       131072 |           27 |     22637.52 |            1 | |       131072 |           28 |        13.12 |            1 | |       131072 |           29 |     20384.92 |            1 | |       131072 |           30 |     20986.80 |            1 | |       131072 |           31 |        26.15 |            1 | |       131072 |           32 |     21398.43 |            1 | |       131072 |           33 |     19752.63 |            1 | |       131072 |           34 |        13.12 |            1 | |       131072 |           35 |        13.12 |            1 | |       131072 |           36 |     20011.02 |            1 | |       131072 |           37 |     21628.63 |            1 | |       131072 |           38 |     20320.17 |            1 | |       131072 |           39 |     18722.56 |            1 | |       131072 |           40 |     20902.64 |            1 | |       131072 |           41 |     20367.22 |            1 | |       131072 |           42 |        13.12 |            1 | |       131072 |           43 |        13.12 |            1 | |       131072 |           44 |        26.20 |            1 | |       131072 |           45 |     20497.74 |            1 | |       131072 |           46 |        13.12 |            1 | |       131072 |           47 |        13.13 |            1 | |       131072 |           48 |        13.12 |            1 | @ |       131072 |            1 |      3670.39 |            1 | |       131072 |            2 |      6780.90 |            1 | |       131072 |            3 |      9335.82 |            1 | |       131072 |            4 |     11427.21 |            1 | |       131072 |            5 |        13.14 |            1 | |       131072 |            6 |     14293.87 |            1 | |       131072 |            7 |     16528.18 |            1 | |       131072 |            8 |     19965.60 |            1 | |       131072 |            9 |        26.10 |            1 | |       131072 |           10 |        26.21 |            1 | |       131072 |           11 |     23534.70 |            1 | |       131072 |           12 |     23979.81 |            1 | |       131072 |           13 |        13.12 |            1 | |       131072 |           14 |        26.18 |            1 | |       131072 |           15 |     26242.31 |            1 | |       131072 |           16 |     23681.22 |            1 | |       131072 |           17 |        13.12 |            1 | |       131072 |           18 |     24049.47 |            1 | |       131072 |           19 |     24387.02 |            1 | |       131072 |           20 |     25037.80 |            1 | |       131072 |           21 |        26.17 |            1 | |       131072 |           22 |     25904.19 |            1 | |       131072 |           23 |     26139.95 |            1 | |       131072 |           24 |     25724.27 |            1 | |       131072 |           25 |     26110.85 |            1 | |       131072 |           26 |     26534.22 |            1 | |       131072 |           27 |     26669.98 |            1 | |       131072 |           28 |     27023.33 |            1 | |       131072 |           29 |        13.12 |            1 | |       131072 |           30 |     27563.16 |            1 | |       131072 |           31 |     28158.76 |            1 | |       131072 |           32 |     28898.87 |            1 | |       131072 |           33 |        26.15 |            1 | |       131072 |           34 |     28552.95 |            1 | |       131072 |           35 |     28431.82 |            1 | |       131072 |           36 |     28970.25 |            1 | |       131072 |           37 |        26.16 |            1 | |       131072 |           38 |     28277.57 |            1 | |       131072 |           39 |     28869.23 |            1 | |       131072 |           40 |     28804.23 |            1 | |       131072 |           41 |        26.18 |            1 | |       131072 |           42 |     27248.30 |            1 | |       131072 |           43 |     28680.96 |            1 | |       131072 |           44 |     28431.82 |            1 | |       131072 |           45 |        26.18 |            1 | |       131072 |           46 |        26.21 |            1 | |       131072 |           47 |     27338.28 |            1 | |       131072 |           48 |        13.12 |            1 |\n"
     ]
    }
   ],
   "source": [
    "result = input()"
   ]
  },
  {
   "cell_type": "code",
   "execution_count": 2,
   "id": "ed46d43c",
   "metadata": {
    "scrolled": true
   },
   "outputs": [
    {
     "name": "stdout",
     "output_type": "stream",
     "text": [
      "['131072', '1', '3572.92', '1', '131072', '2', '6704.34', '1', '131072', '3', '9149.49', '1', '131072', '4', '11644.67', '1', '131072', '5', '13186.31', '1', '131072', '6', '13944.07', '1', '131072', '7', '17088.09', '1', '131072', '8', '18898.55', '1', '131072', '9', '20447.11', '1', '131072', '10', '21382.18', '1', '131072', '11', '20837.65', '1', '131072', '12', '22385.48', '1', '131072', '13', '22695.93', '1', '131072', '14', '26.17', '1', '131072', '15', '23386.09', '1', '131072', '16', '13.12', '1', '131072', '17', '21681.94', '1', '131072', '18', '26.20', '1', '131072', '19', '21990.23', '1', '131072', '20', '13.12', '1', '131072', '21', '22619.33', '1', '131072', '22', '26.20', '1', '131072', '23', '23939.02', '1', '131072', '24', '13.12', '1', '131072', '25', '22482.03', '1', '131072', '26', '26.17', '1', '131072', '27', '22637.52', '1', '131072', '28', '13.12', '1', '131072', '29', '20384.92', '1', '131072', '30', '20986.80', '1', '131072', '31', '26.15', '1', '131072', '32', '21398.43', '1', '131072', '33', '19752.63', '1', '131072', '34', '13.12', '1', '131072', '35', '13.12', '1', '131072', '36', '20011.02', '1', '131072', '37', '21628.63', '1', '131072', '38', '20320.17', '1', '131072', '39', '18722.56', '1', '131072', '40', '20902.64', '1', '131072', '41', '20367.22', '1', '131072', '42', '13.12', '1', '131072', '43', '13.12', '1', '131072', '44', '26.20', '1', '131072', '45', '20497.74', '1', '131072', '46', '13.12', '1', '131072', '47', '13.13', '1', '131072', '48', '13.12', '1', '@', '131072', '1', '3670.39', '1', '131072', '2', '6780.90', '1', '131072', '3', '9335.82', '1', '131072', '4', '11427.21', '1', '131072', '5', '13.14', '1', '131072', '6', '14293.87', '1', '131072', '7', '16528.18', '1', '131072', '8', '19965.60', '1', '131072', '9', '26.10', '1', '131072', '10', '26.21', '1', '131072', '11', '23534.70', '1', '131072', '12', '23979.81', '1', '131072', '13', '13.12', '1', '131072', '14', '26.18', '1', '131072', '15', '26242.31', '1', '131072', '16', '23681.22', '1', '131072', '17', '13.12', '1', '131072', '18', '24049.47', '1', '131072', '19', '24387.02', '1', '131072', '20', '25037.80', '1', '131072', '21', '26.17', '1', '131072', '22', '25904.19', '1', '131072', '23', '26139.95', '1', '131072', '24', '25724.27', '1', '131072', '25', '26110.85', '1', '131072', '26', '26534.22', '1', '131072', '27', '26669.98', '1', '131072', '28', '27023.33', '1', '131072', '29', '13.12', '1', '131072', '30', '27563.16', '1', '131072', '31', '28158.76', '1', '131072', '32', '28898.87', '1', '131072', '33', '26.15', '1', '131072', '34', '28552.95', '1', '131072', '35', '28431.82', '1', '131072', '36', '28970.25', '1', '131072', '37', '26.16', '1', '131072', '38', '28277.57', '1', '131072', '39', '28869.23', '1', '131072', '40', '28804.23', '1', '131072', '41', '26.18', '1', '131072', '42', '27248.30', '1', '131072', '43', '28680.96', '1', '131072', '44', '28431.82', '1', '131072', '45', '26.18', '1', '131072', '46', '26.21', '1', '131072', '47', '27338.28', '1', '131072', '48', '13.12', '1']\n",
      "[1, 2, 3, 4, 5, 6, 7, 8, 9, 10, 11, 12, 13, 14, 15, 16, 17, 18, 19, 20, 21, 22, 23, 24, 25, 26, 27, 28, 29, 30, 31, 32, 33, 34, 35, 36, 37, 38, 39, 40, 41, 42, 43, 44, 45, 46, 47, 48, 131072, 131072, 131072, 131072, 131072, 131072, 131072, 131072, 131072, 131072, 131072, 131072, 131072, 131072, 131072, 131072, 131072, 131072, 131072, 131072, 131072, 131072, 131072, 131072, 131072, 131072, 131072, 131072, 131072, 131072, 131072, 131072, 131072, 131072, 131072, 131072, 131072, 131072, 131072, 131072, 131072, 131072, 131072, 131072, 131072, 131072, 131072, 131072]\n",
      "[3572.92, 6704.34, 9149.49, 11644.67, 13186.31, 13944.07, 17088.09, 18898.55, 20447.11, 21382.18, 20837.65, 22385.48, 22695.93, 26.17, 23386.09, 13.12, 21681.94, 26.2, 21990.23, 13.12, 22619.33, 26.2, 23939.02, 13.12, 22482.03, 26.17, 22637.52, 13.12, 20384.92, 20986.8, 26.15, 21398.43, 19752.63, 13.12, 13.12, 20011.02, 21628.63, 20320.17, 18722.56, 20902.64, 20367.22, 13.12, 13.12, 26.2, 20497.74, 13.12, 13.13, 13.12, 1.0, 2.0, 3.0, 4.0, 5.0, 6.0, 7.0, 8.0, 9.0, 10.0, 11.0, 12.0, 13.0, 14.0, 15.0, 16.0, 17.0, 18.0, 19.0, 20.0, 21.0, 22.0, 23.0, 24.0, 25.0, 26.0, 27.0, 28.0, 29.0, 30.0, 31.0, 32.0, 33.0, 34.0, 35.0, 36.0, 37.0, 38.0, 39.0, 40.0, 41.0, 42.0, 43.0, 44.0, 45.0, 46.0, 47.0, 48.0]\n"
     ]
    }
   ],
   "source": [
    "split_list = list(filter(bool, [item.strip() for item in result.split('|')] ))\n",
    "print(split_list)\n",
    "datasize = []\n",
    "mflops = []\n",
    "import numpy as np \n",
    "\n",
    "count = 0\n",
    "for x in split_list:\n",
    "    match count:\n",
    "        case 0:\n",
    "              \n",
    "            count = count+1\n",
    "        case 1:\n",
    "            datasize.append(int(x))\n",
    "            count=count+1\n",
    "        case 2:\n",
    "            mflops.append(float(x))\n",
    "#             mflops.append(float(x)*16/1000)\n",
    "            count =count+1\n",
    "        case 3:\n",
    "            count = 0\n",
    "            \n",
    "print(datasize)\n",
    "\n",
    "print(mflops)\n"
   ]
  },
  {
   "cell_type": "code",
   "execution_count": 3,
   "id": "5f18dd87",
   "metadata": {},
   "outputs": [
    {
     "data": {
      "image/png": "[encoded data removed]",
      "text/plain": [
       "<Figure size 640x480 with 1 Axes>"
      ]
     },
     "metadata": {},
     "output_type": "display_data"
    }
   ],
   "source": [
    "import matplotlib.pyplot as plt\n",
    "import numpy as np \n",
    "from functools import partial\n",
    "from matplotlib.ticker import NullFormatter, FixedLocator, FuncFormatter\n",
    "\n",
    "\n",
    "def get_super(x):\n",
    "    normal = \"ABCDEFGHIJKLMNOPQRSTUVWXYZabcdefghijklmnopqrstuvwxyz0123456789+-=()\"\n",
    "    super_s = \"ᴬᴮᶜᴰᴱᶠᴳᴴᴵᴶᴷᴸᴹᴺᴼᴾQᴿˢᵀᵁⱽᵂˣʸᶻᵃᵇᶜᵈᵉᶠᵍʰᶦʲᵏˡᵐⁿᵒᵖ۹ʳˢᵗᵘᵛʷˣʸᶻ⁰¹²³⁴⁵⁶⁷⁸⁹⁺⁻⁼⁽⁾\"\n",
    "    res = x.maketrans(''.join(normal), ''.join(super_s))\n",
    "    return x.translate(res)\n",
    "\n",
    "np.seterr(divide = 'ignore') \n",
    "\n",
    "def forward(x):\n",
    "     return np.log2(x)\n",
    "\n",
    "\n",
    "def inverse(x):\n",
    "    return 2**x\n",
    "\n",
    "def formatter(x):\n",
    "    return '2{}'.format(get_super(str(int(np.log2(x)))))\n",
    "\n",
    "    \n",
    "#     counter =0\n",
    "#     while x >1:\n",
    "#         x = x/2\n",
    "#         counter=counter+1\n",
    "#     return \"2^\"+str(counter)\n",
    "\n",
    "\n",
    "fig, ax = plt.subplots()\n",
    "ax.plot(datasize,mflops)\n",
    "# ax.set_xscale('function', functions=(forward,inverse))\n",
    "# ax.xaxis.set_major_locator(FixedLocator(datasize))\n",
    "# ax.xaxis.set_major_formatter(FuncFormatter(lambda x, p: formatter(x)))\n",
    "\n",
    "ax.grid(True)\n",
    "plt.xlabel('Thread')\n",
    "plt.ylabel('MFLOPS')\n",
    "\n",
    "\n",
    "\n",
    "plt.show(fig)\n"
   ]
  },
  {
   "cell_type": "code",
   "execution_count": null,
   "id": "74f21ab1",
   "metadata": {},
   "outputs": [],
   "source": [
    "\n",
    "\n",
    "\n"
   ]
  },
  {
   "cell_type": "code",
   "execution_count": null,
   "id": "38aeb30b",
   "metadata": {},
   "outputs": [],
   "source": []
  }
 ],
 "metadata": {
  "kernelspec": {
   "display_name": "Python 3 (ipykernel)",
   "language": "python",
   "name": "python3"
  },
  "language_info": {
   "codemirror_mode": {
    "name": "ipython",
    "version": 3
   },
   "file_extension": ".py",
   "mimetype": "text/x-python",
   "name": "python",
   "nbconvert_exporter": "python",
   "pygments_lexer": "ipython3",
   "version": "3.10.8"
  }
 },
 "nbformat": 4,
 "nbformat_minor": 5
}
